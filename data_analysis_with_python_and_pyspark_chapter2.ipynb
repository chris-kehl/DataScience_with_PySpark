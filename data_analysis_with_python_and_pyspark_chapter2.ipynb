{
  "nbformat": 4,
  "nbformat_minor": 0,
  "metadata": {
    "colab": {
      "provenance": [],
      "mount_file_id": "1-pZCOc3KeWPXkv-iH98yUrUX3kLMdi1q",
      "authorship_tag": "ABX9TyOpER3H9AA3XrTflAzKOY5H",
      "include_colab_link": true
    },
    "kernelspec": {
      "name": "python3",
      "display_name": "Python 3"
    },
    "language_info": {
      "name": "python"
    }
  },
  "cells": [
    {
      "cell_type": "markdown",
      "metadata": {
        "id": "view-in-github",
        "colab_type": "text"
      },
      "source": [
        "<a href=\"https://colab.research.google.com/github/chris-kehl/DataScience_with_PySpark/blob/main/data_analysis_with_python_and_pyspark_chapter2.ipynb\" target=\"_parent\"><img src=\"https://colab.research.google.com/assets/colab-badge.svg\" alt=\"Open In Colab\"/></a>"
      ]
    },
    {
      "cell_type": "code",
      "source": [
        "gpu_info = !nvidia-smi\n",
        "gpu_info = '\\n'.join(gpu_info)\n",
        "if gpu_info.find('failed') >= 0:\n",
        "  print('Not connected to a GPU')\n",
        "else:\n",
        "  print(gpu_info)"
      ],
      "metadata": {
        "id": "gIC150ftmErt",
        "colab": {
          "base_uri": "https://localhost:8080/"
        },
        "outputId": "b253d6ca-e7db-4178-e9a5-51727c5859d5"
      },
      "execution_count": null,
      "outputs": [
        {
          "output_type": "stream",
          "name": "stdout",
          "text": [
            "/bin/bash: line 1: nvidia-smi: command not found\n"
          ]
        }
      ]
    },
    {
      "cell_type": "code",
      "source": [
        "from psutil import virtual_memory\n",
        "ram_gb = virtual_memory().total / 1e9\n",
        "print('Your runtime has {:.1f} gigabytes of available RAM\\n'.format(ram_gb))\n",
        "\n",
        "if ram_gb < 20:\n",
        "  print('Not using a high-RAM runtime')\n",
        "else:\n",
        "  print('You are using a high-RAM runtime!')"
      ],
      "metadata": {
        "colab": {
          "base_uri": "https://localhost:8080/"
        },
        "id": "mcFyJABhNiMy",
        "outputId": "ea6f6cc8-9cde-42b2-aa72-1d108eb23ccf"
      },
      "execution_count": null,
      "outputs": [
        {
          "output_type": "stream",
          "name": "stdout",
          "text": [
            "Your runtime has 13.6 gigabytes of available RAM\n",
            "\n",
            "Not using a high-RAM runtime\n"
          ]
        }
      ]
    },
    {
      "cell_type": "code",
      "execution_count": null,
      "metadata": {
        "colab": {
          "base_uri": "https://localhost:8080/"
        },
        "id": "AWi4T-7KfPq5",
        "outputId": "c9dfa1ef-e2ab-4ab6-9671-972793f26e2d"
      },
      "outputs": [
        {
          "output_type": "stream",
          "name": "stdout",
          "text": [
            "\r0% [Working]\r            \rGet:1 https://cloud.r-project.org/bin/linux/ubuntu jammy-cran40/ InRelease [3,626 B]\n",
            "Hit:2 https://developer.download.nvidia.com/compute/cuda/repos/ubuntu2204/x86_64  InRelease\n",
            "Get:3 http://security.ubuntu.com/ubuntu jammy-security InRelease [110 kB]\n",
            "Hit:4 http://archive.ubuntu.com/ubuntu jammy InRelease\n",
            "Get:5 http://archive.ubuntu.com/ubuntu jammy-updates InRelease [119 kB]\n",
            "Hit:6 http://archive.ubuntu.com/ubuntu jammy-backports InRelease\n",
            "Hit:7 https://ppa.launchpadcontent.net/c2d4u.team/c2d4u4.0+/ubuntu jammy InRelease\n",
            "Hit:8 https://ppa.launchpadcontent.net/deadsnakes/ppa/ubuntu jammy InRelease\n",
            "Hit:9 https://ppa.launchpadcontent.net/graphics-drivers/ppa/ubuntu jammy InRelease\n",
            "Get:10 https://ppa.launchpadcontent.net/ubuntugis/ppa/ubuntu jammy InRelease [23.8 kB]\n",
            "Get:11 http://archive.ubuntu.com/ubuntu jammy-updates/restricted amd64 Packages [1,713 kB]\n",
            "Get:12 http://archive.ubuntu.com/ubuntu jammy-updates/main amd64 Packages [1,671 kB]\n",
            "Get:13 http://archive.ubuntu.com/ubuntu jammy-updates/universe amd64 Packages [1,325 kB]\n",
            "Get:14 http://security.ubuntu.com/ubuntu jammy-security/universe amd64 Packages [1,059 kB]\n",
            "Get:15 http://security.ubuntu.com/ubuntu jammy-security/restricted amd64 Packages [1,676 kB]\n",
            "Get:16 http://security.ubuntu.com/ubuntu jammy-security/main amd64 Packages [1,390 kB]\n",
            "Get:17 https://ppa.launchpadcontent.net/ubuntugis/ppa/ubuntu jammy/main amd64 Packages [66.2 kB]\n",
            "Fetched 9,156 kB in 6s (1,653 kB/s)\n",
            "Reading package lists... Done\n",
            "drive  sample_data  spark-3.1.1-bin-hadoop3.2  spark-3.1.1-bin-hadoop3.2.tgz\n"
          ]
        }
      ],
      "source": [
        "# Executing pySpark on colab\n",
        "!apt-get update # Update apt-get repository\n",
        "!apt-get install openjdk-8-jdk-headless -qq > /dev/null # Install Java\n",
        "!wget -q http://archive.apache.org/dist/spark/spark-3.1.1/spark-3.1.1-bin-hadoop3.2.tgz\n",
        "!tar xf spark-3.1.1-bin-hadoop3.2.tgz # Unzip the tgz file.\n",
        "!pip install -q findspark # install findspark. Adds PySpark to the system path during runtime.\n",
        "\n",
        "# Set environment variables\n",
        "import os\n",
        "os.environ[\"JAVA_HOME\"] = \"/usr/lib/jvm/java-8-openjdk-amd64\"\n",
        "os.environ[\"SPARK_HOME\"] = \"/content/spark-3.1.1-bin-hadoop3.2\"\n",
        "\n",
        "!ls\n",
        "\n",
        "# Initialize findspark\n",
        "import findspark\n",
        "findspark.init()\n",
        "\n",
        "# Create pySpark session\n",
        "from pyspark.sql import SparkSession\n",
        "spark = (SparkSession\n",
        "         .builder\n",
        "         .appName(\"Analyzing the vocabulary of Pride and Justice.\")\n",
        "         .getOrCreate())"
      ]
    },
    {
      "cell_type": "code",
      "source": [
        "spark.sparkContext\n"
      ],
      "metadata": {
        "colab": {
          "base_uri": "https://localhost:8080/",
          "height": 197
        },
        "id": "4TgDlAm5lwwl",
        "outputId": "3ea2a5fa-b34b-4198-a8d0-46b543aa6b47"
      },
      "execution_count": null,
      "outputs": [
        {
          "output_type": "execute_result",
          "data": {
            "text/plain": [
              "<SparkContext master=local[*] appName=Analyzing the vocabulary of Pride and Justice.>"
            ],
            "text/html": [
              "\n",
              "        <div>\n",
              "            <p><b>SparkContext</b></p>\n",
              "\n",
              "            <p><a href=\"http://5129f292e4ff:4040\">Spark UI</a></p>\n",
              "\n",
              "            <dl>\n",
              "              <dt>Version</dt>\n",
              "                <dd><code>v3.1.1</code></dd>\n",
              "              <dt>Master</dt>\n",
              "                <dd><code>local[*]</code></dd>\n",
              "              <dt>AppName</dt>\n",
              "                <dd><code>Analyzing the vocabulary of Pride and Justice.</code></dd>\n",
              "            </dl>\n",
              "        </div>\n",
              "        "
            ]
          },
          "metadata": {},
          "execution_count": 4
        }
      ]
    },
    {
      "cell_type": "markdown",
      "source": [
        "Decide how Chatty you want your spark session. I'm going to use debug"
      ],
      "metadata": {
        "id": "GO8NoIS6oeFc"
      }
    },
    {
      "cell_type": "code",
      "source": [
        "spark.sparkContext.setLogLevel(\"ERROR\")"
      ],
      "metadata": {
        "id": "ArmFzTAsocvw"
      },
      "execution_count": null,
      "outputs": []
    },
    {
      "cell_type": "markdown",
      "source": [
        "How to read the data, spark.read is how we do it followed by the directory of types of data spark can read."
      ],
      "metadata": {
        "id": "QZ-NP8rNAGVj"
      }
    },
    {
      "cell_type": "code",
      "source": [
        "spark.read\n",
        "dir(spark.read)"
      ],
      "metadata": {
        "colab": {
          "base_uri": "https://localhost:8080/"
        },
        "id": "Tr51dHV6_N5C",
        "outputId": "dd1060ae-a5a8-4568-9f97-918e08c4dbb5"
      },
      "execution_count": null,
      "outputs": [
        {
          "output_type": "execute_result",
          "data": {
            "text/plain": [
              "['__class__',\n",
              " '__delattr__',\n",
              " '__dict__',\n",
              " '__dir__',\n",
              " '__doc__',\n",
              " '__eq__',\n",
              " '__format__',\n",
              " '__ge__',\n",
              " '__getattribute__',\n",
              " '__gt__',\n",
              " '__hash__',\n",
              " '__init__',\n",
              " '__init_subclass__',\n",
              " '__le__',\n",
              " '__lt__',\n",
              " '__module__',\n",
              " '__ne__',\n",
              " '__new__',\n",
              " '__reduce__',\n",
              " '__reduce_ex__',\n",
              " '__repr__',\n",
              " '__setattr__',\n",
              " '__sizeof__',\n",
              " '__str__',\n",
              " '__subclasshook__',\n",
              " '__weakref__',\n",
              " '_df',\n",
              " '_jreader',\n",
              " '_set_opts',\n",
              " '_spark',\n",
              " 'csv',\n",
              " 'format',\n",
              " 'jdbc',\n",
              " 'json',\n",
              " 'load',\n",
              " 'option',\n",
              " 'options',\n",
              " 'orc',\n",
              " 'parquet',\n",
              " 'schema',\n",
              " 'table',\n",
              " 'text']"
            ]
          },
          "metadata": {},
          "execution_count": 6
        }
      ]
    },
    {
      "cell_type": "markdown",
      "source": [
        "Pull the data from github at https://github.com/jonesberg/DataAnalysisWithPythonAndPySpark"
      ],
      "metadata": {
        "id": "p9YKnvcZBVvP"
      }
    },
    {
      "cell_type": "code",
      "source": [
        "book = spark.read.text(\"/content/drive/MyDrive/DataAnalysisWithPythonAndPySpark-Data-trunk/gutenberg_books/1342-0.txt\")\n",
        "\n",
        "book"
      ],
      "metadata": {
        "colab": {
          "base_uri": "https://localhost:8080/"
        },
        "id": "26h1CinrJuWO",
        "outputId": "6d9610d7-2d44-4f4d-c3b4-1635611474ba"
      },
      "execution_count": null,
      "outputs": [
        {
          "output_type": "execute_result",
          "data": {
            "text/plain": [
              "DataFrame[value: string]"
            ]
          },
          "metadata": {},
          "execution_count": 7
        }
      ]
    },
    {
      "cell_type": "code",
      "source": [
        "book.printSchema()\n",
        "print(book.dtypes)"
      ],
      "metadata": {
        "colab": {
          "base_uri": "https://localhost:8080/"
        },
        "id": "UEuvNZvCP6iO",
        "outputId": "858b338f-38e7-4425-f3d0-9cda8faf531b"
      },
      "execution_count": null,
      "outputs": [
        {
          "output_type": "stream",
          "name": "stdout",
          "text": [
            "root\n",
            " |-- value: string (nullable = true)\n",
            "\n",
            "[('value', 'string')]\n"
          ]
        }
      ]
    },
    {
      "cell_type": "markdown",
      "source": [
        "Get a look at the data in the dataframe"
      ],
      "metadata": {
        "id": "nZU31pf7N6w3"
      }
    },
    {
      "cell_type": "code",
      "source": [
        "book.show()"
      ],
      "metadata": {
        "colab": {
          "base_uri": "https://localhost:8080/"
        },
        "id": "d3rLoKdWWStR",
        "outputId": "aeaae328-8bc7-4a17-e539-e18a3795061a"
      },
      "execution_count": null,
      "outputs": [
        {
          "output_type": "stream",
          "name": "stdout",
          "text": [
            "+--------------------+\n",
            "|               value|\n",
            "+--------------------+\n",
            "|The Project Guten...|\n",
            "|                    |\n",
            "|This eBook is for...|\n",
            "|almost no restric...|\n",
            "|re-use it under t...|\n",
            "|with this eBook o...|\n",
            "|                    |\n",
            "|                    |\n",
            "|Title: Pride and ...|\n",
            "|                    |\n",
            "| Author: Jane Austen|\n",
            "|                    |\n",
            "|Posting Date: Aug...|\n",
            "|Release Date: Jun...|\n",
            "|Last Updated: Mar...|\n",
            "|                    |\n",
            "|   Language: English|\n",
            "|                    |\n",
            "|Character set enc...|\n",
            "|                    |\n",
            "+--------------------+\n",
            "only showing top 20 rows\n",
            "\n"
          ]
        }
      ]
    },
    {
      "cell_type": "markdown",
      "source": [
        "Show top ten rows truncated to 50\n"
      ],
      "metadata": {
        "id": "uYbVT9_0OAST"
      }
    },
    {
      "cell_type": "code",
      "source": [
        "book.show(10, truncate=50)"
      ],
      "metadata": {
        "colab": {
          "base_uri": "https://localhost:8080/"
        },
        "id": "lk8OI-UTMKfW",
        "outputId": "a1fe3c88-1e2a-40a3-db8a-4bbfb4024aed"
      },
      "execution_count": null,
      "outputs": [
        {
          "output_type": "stream",
          "name": "stdout",
          "text": [
            "+--------------------------------------------------+\n",
            "|                                             value|\n",
            "+--------------------------------------------------+\n",
            "|The Project Gutenberg EBook of Pride and Prejud...|\n",
            "|                                                  |\n",
            "|This eBook is for the use of anyone anywhere at...|\n",
            "|almost no restrictions whatsoever.  You may cop...|\n",
            "|re-use it under the terms of the Project Gutenb...|\n",
            "|    with this eBook or online at www.gutenberg.org|\n",
            "|                                                  |\n",
            "|                                                  |\n",
            "|                        Title: Pride and Prejudice|\n",
            "|                                                  |\n",
            "+--------------------------------------------------+\n",
            "only showing top 10 rows\n",
            "\n"
          ]
        }
      ]
    },
    {
      "cell_type": "markdown",
      "source": [
        "Split the lines into arrays or words\n"
      ],
      "metadata": {
        "id": "2OvMR0tjPclX"
      }
    },
    {
      "cell_type": "code",
      "source": [
        "from pyspark.sql.functions import split\n",
        "lines = book.select(split(book.value, \" \").alias(\"line\"))\n",
        "lines.show(5)"
      ],
      "metadata": {
        "colab": {
          "base_uri": "https://localhost:8080/"
        },
        "id": "Pc2u64jwPVPm",
        "outputId": "7548e664-e12b-4813-a535-686b23f107e4"
      },
      "execution_count": null,
      "outputs": [
        {
          "output_type": "stream",
          "name": "stdout",
          "text": [
            "+--------------------+\n",
            "|                line|\n",
            "+--------------------+\n",
            "|[The, Project, Gu...|\n",
            "|                  []|\n",
            "|[This, eBook, is,...|\n",
            "|[almost, no, rest...|\n",
            "|[re-use, it, unde...|\n",
            "+--------------------+\n",
            "only showing top 5 rows\n",
            "\n"
          ]
        }
      ]
    },
    {
      "cell_type": "markdown",
      "source": [
        "Select the value column from the book dataframe"
      ],
      "metadata": {
        "id": "I7jgn572Zw2G"
      }
    },
    {
      "cell_type": "code",
      "source": [
        "from pyspark.sql.functions import col\n",
        "book.select(book.value)\n",
        "book.select(book[\"value\"])\n",
        "book.select(col(\"value\"))\n",
        "book.select(\"value\")"
      ],
      "metadata": {
        "colab": {
          "base_uri": "https://localhost:8080/"
        },
        "id": "m3OuZOX-Yex4",
        "outputId": "68c4790e-53f6-40a4-90e9-01ab1a8dcfcd"
      },
      "execution_count": null,
      "outputs": [
        {
          "output_type": "execute_result",
          "data": {
            "text/plain": [
              "DataFrame[value: string]"
            ]
          },
          "metadata": {},
          "execution_count": 12
        }
      ]
    },
    {
      "cell_type": "code",
      "source": [
        "book.show(5, truncate = 100)"
      ],
      "metadata": {
        "colab": {
          "base_uri": "https://localhost:8080/"
        },
        "id": "FnfpKGwfbgPx",
        "outputId": "c7c33c60-304d-4782-bc09-5666e4bbeb23"
      },
      "execution_count": null,
      "outputs": [
        {
          "output_type": "stream",
          "name": "stdout",
          "text": [
            "+--------------------------------------------------------------------+\n",
            "|                                                               value|\n",
            "+--------------------------------------------------------------------+\n",
            "|  The Project Gutenberg EBook of Pride and Prejudice, by Jane Austen|\n",
            "|                                                                    |\n",
            "|    This eBook is for the use of anyone anywhere at no cost and with|\n",
            "|almost no restrictions whatsoever.  You may copy it, give it away or|\n",
            "| re-use it under the terms of the Project Gutenberg License included|\n",
            "+--------------------------------------------------------------------+\n",
            "only showing top 5 rows\n",
            "\n"
          ]
        }
      ]
    },
    {
      "cell_type": "markdown",
      "source": [
        "Split the lines of text into a list of words"
      ],
      "metadata": {
        "id": "28EdwqWnb5HL"
      }
    },
    {
      "cell_type": "code",
      "source": [
        "from pyspark.sql.functions import col, split\n",
        "\n",
        "lines = book.select(split(col(\"value\"), \" \"))\n",
        "\n",
        "lines.printSchema()\n",
        "\n",
        "lines.show(5, truncate=50)"
      ],
      "metadata": {
        "colab": {
          "base_uri": "https://localhost:8080/"
        },
        "id": "nzfXFd4yb4L0",
        "outputId": "06e41096-bee5-4ddb-9269-60b1a03a8b64"
      },
      "execution_count": null,
      "outputs": [
        {
          "output_type": "stream",
          "name": "stdout",
          "text": [
            "root\n",
            " |-- split(value,  , -1): array (nullable = true)\n",
            " |    |-- element: string (containsNull = true)\n",
            "\n",
            "+--------------------------------------------------+\n",
            "|                               split(value,  , -1)|\n",
            "+--------------------------------------------------+\n",
            "|[The, Project, Gutenberg, EBook, of, Pride, and...|\n",
            "|                                                []|\n",
            "|[This, eBook, is, for, the, use, of, anyone, an...|\n",
            "|[almost, no, restrictions, whatsoever., , You, ...|\n",
            "|[re-use, it, under, the, terms, of, the, Projec...|\n",
            "+--------------------------------------------------+\n",
            "only showing top 5 rows\n",
            "\n"
          ]
        }
      ]
    }
  ]
}