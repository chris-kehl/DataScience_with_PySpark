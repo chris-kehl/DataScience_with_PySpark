{
  "nbformat": 4,
  "nbformat_minor": 0,
  "metadata": {
    "colab": {
      "provenance": [],
      "mount_file_id": "1-pZCOc3KeWPXkv-iH98yUrUX3kLMdi1q",
      "authorship_tag": "ABX9TyNDihrXsK+oBRo4WpNpOpSL",
      "include_colab_link": true
    },
    "kernelspec": {
      "name": "python3",
      "display_name": "Python 3"
    },
    "language_info": {
      "name": "python"
    }
  },
  "cells": [
    {
      "cell_type": "markdown",
      "metadata": {
        "id": "view-in-github",
        "colab_type": "text"
      },
      "source": [
        "<a href=\"https://colab.research.google.com/github/chris-kehl/DataScience_with_PySpark/blob/main/data_analysis_with_python_and_pyspark_chapter2.ipynb\" target=\"_parent\"><img src=\"https://colab.research.google.com/assets/colab-badge.svg\" alt=\"Open In Colab\"/></a>"
      ]
    },
    {
      "cell_type": "code",
      "source": [
        "gpu_info = !nvidia-smi\n",
        "gpu_info = '\\n'.join(gpu_info)\n",
        "if gpu_info.find('failed') >= 0:\n",
        "  print('Not connected to a GPU')\n",
        "else:\n",
        "  print(gpu_info)"
      ],
      "metadata": {
        "id": "gIC150ftmErt",
        "colab": {
          "base_uri": "https://localhost:8080/"
        },
        "outputId": "e0341ea9-f4cc-4bb8-b9c9-df6cf6e64187"
      },
      "execution_count": 60,
      "outputs": [
        {
          "output_type": "stream",
          "name": "stdout",
          "text": [
            "/bin/bash: line 1: nvidia-smi: command not found\n"
          ]
        }
      ]
    },
    {
      "cell_type": "code",
      "source": [
        "from psutil import virtual_memory\n",
        "ram_gb = virtual_memory().total / 1e9\n",
        "print('Your runtime has {:.1f} gigabytes of available RAM\\n'.format(ram_gb))\n",
        "\n",
        "if ram_gb < 20:\n",
        "  print('Not using a high-RAM runtime')\n",
        "else:\n",
        "  print('You are using a high-RAM runtime!')"
      ],
      "metadata": {
        "colab": {
          "base_uri": "https://localhost:8080/"
        },
        "id": "mcFyJABhNiMy",
        "outputId": "4d2b829b-6283-4b61-c222-53b47bc54124"
      },
      "execution_count": 61,
      "outputs": [
        {
          "output_type": "stream",
          "name": "stdout",
          "text": [
            "Your runtime has 13.6 gigabytes of available RAM\n",
            "\n",
            "Not using a high-RAM runtime\n"
          ]
        }
      ]
    },
    {
      "cell_type": "code",
      "execution_count": 62,
      "metadata": {
        "colab": {
          "base_uri": "https://localhost:8080/"
        },
        "id": "AWi4T-7KfPq5",
        "outputId": "f60c2738-27e2-4d65-b2b7-b8c5f8fe9ebf"
      },
      "outputs": [
        {
          "output_type": "stream",
          "name": "stdout",
          "text": [
            "Hit:1 https://developer.download.nvidia.com/compute/cuda/repos/ubuntu2204/x86_64  InRelease\n",
            "Hit:2 https://cloud.r-project.org/bin/linux/ubuntu jammy-cran40/ InRelease\n",
            "Hit:3 http://security.ubuntu.com/ubuntu jammy-security InRelease\n",
            "Hit:4 http://archive.ubuntu.com/ubuntu jammy InRelease\n",
            "Hit:5 http://archive.ubuntu.com/ubuntu jammy-updates InRelease\n",
            "Hit:6 http://archive.ubuntu.com/ubuntu jammy-backports InRelease\n",
            "Hit:7 https://ppa.launchpadcontent.net/c2d4u.team/c2d4u4.0+/ubuntu jammy InRelease\n",
            "Hit:8 https://ppa.launchpadcontent.net/deadsnakes/ppa/ubuntu jammy InRelease\n",
            "Hit:9 https://ppa.launchpadcontent.net/graphics-drivers/ppa/ubuntu jammy InRelease\n",
            "Hit:10 https://ppa.launchpadcontent.net/ubuntugis/ppa/ubuntu jammy InRelease\n",
            "Reading package lists... Done\n",
            "content      spark-3.1.1-bin-hadoop3.2\t      spark-3.1.1-bin-hadoop3.2.tgz.2\n",
            "drive\t     spark-3.1.1-bin-hadoop3.2.tgz\n",
            "sample_data  spark-3.1.1-bin-hadoop3.2.tgz.1\n"
          ]
        }
      ],
      "source": [
        "# Executing pySpark on colab\n",
        "!apt-get update # Update apt-get repository\n",
        "!apt-get install openjdk-8-jdk-headless -qq > /dev/null # Install Java\n",
        "!wget -q http://archive.apache.org/dist/spark/spark-3.1.1/spark-3.1.1-bin-hadoop3.2.tgz\n",
        "!tar xf spark-3.1.1-bin-hadoop3.2.tgz # Unzip the tgz file.\n",
        "!pip install -q findspark # install findspark. Adds PySpark to the system path during runtime.\n",
        "\n",
        "# Set environment variables\n",
        "import os\n",
        "os.environ[\"JAVA_HOME\"] = \"/usr/lib/jvm/java-8-openjdk-amd64\"\n",
        "os.environ[\"SPARK_HOME\"] = \"/content/spark-3.1.1-bin-hadoop3.2\"\n",
        "\n",
        "!ls\n",
        "\n",
        "# Initialize findspark\n",
        "import findspark\n",
        "findspark.init()\n",
        "\n",
        "# Create pySpark session\n",
        "from pyspark.sql import SparkSession\n",
        "spark = (SparkSession\n",
        "         .builder\n",
        "         .appName(\"Analyzing the vocabulary of Pride and Justice.\")\n",
        "         .getOrCreate())"
      ]
    },
    {
      "cell_type": "code",
      "source": [
        "spark.sparkContext\n"
      ],
      "metadata": {
        "colab": {
          "base_uri": "https://localhost:8080/",
          "height": 197
        },
        "id": "4TgDlAm5lwwl",
        "outputId": "63477cb0-c905-4f9a-b907-dbc772f66adb"
      },
      "execution_count": 63,
      "outputs": [
        {
          "output_type": "execute_result",
          "data": {
            "text/plain": [
              "<SparkContext master=local[*] appName=Analyzing the vocabulary of Pride and Justice.>"
            ],
            "text/html": [
              "\n",
              "        <div>\n",
              "            <p><b>SparkContext</b></p>\n",
              "\n",
              "            <p><a href=\"http://1e68966608ec:4040\">Spark UI</a></p>\n",
              "\n",
              "            <dl>\n",
              "              <dt>Version</dt>\n",
              "                <dd><code>v3.1.1</code></dd>\n",
              "              <dt>Master</dt>\n",
              "                <dd><code>local[*]</code></dd>\n",
              "              <dt>AppName</dt>\n",
              "                <dd><code>Analyzing the vocabulary of Pride and Justice.</code></dd>\n",
              "            </dl>\n",
              "        </div>\n",
              "        "
            ]
          },
          "metadata": {},
          "execution_count": 63
        }
      ]
    },
    {
      "cell_type": "markdown",
      "source": [
        "Decide how Chatty you want your spark session. I'm going to use debug"
      ],
      "metadata": {
        "id": "GO8NoIS6oeFc"
      }
    },
    {
      "cell_type": "code",
      "source": [
        "spark.sparkContext.setLogLevel(\"ERROR\")"
      ],
      "metadata": {
        "id": "ArmFzTAsocvw"
      },
      "execution_count": 64,
      "outputs": []
    },
    {
      "cell_type": "markdown",
      "source": [
        "How to read the data, spark.read is how we do it followed by the directory of types of data spark can read."
      ],
      "metadata": {
        "id": "QZ-NP8rNAGVj"
      }
    },
    {
      "cell_type": "code",
      "source": [
        "spark.read\n",
        "dir(spark.read)"
      ],
      "metadata": {
        "colab": {
          "base_uri": "https://localhost:8080/"
        },
        "id": "Tr51dHV6_N5C",
        "outputId": "bcd62bcb-afcb-4289-f50d-99d5b3f13f87"
      },
      "execution_count": 65,
      "outputs": [
        {
          "output_type": "execute_result",
          "data": {
            "text/plain": [
              "['__class__',\n",
              " '__delattr__',\n",
              " '__dict__',\n",
              " '__dir__',\n",
              " '__doc__',\n",
              " '__eq__',\n",
              " '__format__',\n",
              " '__ge__',\n",
              " '__getattribute__',\n",
              " '__gt__',\n",
              " '__hash__',\n",
              " '__init__',\n",
              " '__init_subclass__',\n",
              " '__le__',\n",
              " '__lt__',\n",
              " '__module__',\n",
              " '__ne__',\n",
              " '__new__',\n",
              " '__reduce__',\n",
              " '__reduce_ex__',\n",
              " '__repr__',\n",
              " '__setattr__',\n",
              " '__sizeof__',\n",
              " '__str__',\n",
              " '__subclasshook__',\n",
              " '__weakref__',\n",
              " '_df',\n",
              " '_jreader',\n",
              " '_set_opts',\n",
              " '_spark',\n",
              " 'csv',\n",
              " 'format',\n",
              " 'jdbc',\n",
              " 'json',\n",
              " 'load',\n",
              " 'option',\n",
              " 'options',\n",
              " 'orc',\n",
              " 'parquet',\n",
              " 'schema',\n",
              " 'table',\n",
              " 'text']"
            ]
          },
          "metadata": {},
          "execution_count": 65
        }
      ]
    },
    {
      "cell_type": "markdown",
      "source": [
        "Pull the data from github at https://github.com/jonesberg/DataAnalysisWithPythonAndPySpark"
      ],
      "metadata": {
        "id": "p9YKnvcZBVvP"
      }
    },
    {
      "cell_type": "code",
      "source": [
        "book = spark.read.text(\"/content/drive/MyDrive/DataAnalysisWithPythonAndPySpark-Data-trunk/gutenberg_books/1342-0.txt\")\n",
        "\n",
        "book"
      ],
      "metadata": {
        "colab": {
          "base_uri": "https://localhost:8080/"
        },
        "id": "26h1CinrJuWO",
        "outputId": "2bfcdc58-1144-4c73-cdf6-e778504e4c23"
      },
      "execution_count": 66,
      "outputs": [
        {
          "output_type": "execute_result",
          "data": {
            "text/plain": [
              "DataFrame[value: string]"
            ]
          },
          "metadata": {},
          "execution_count": 66
        }
      ]
    },
    {
      "cell_type": "code",
      "source": [
        "book.printSchema()\n",
        "print(book.dtypes)"
      ],
      "metadata": {
        "colab": {
          "base_uri": "https://localhost:8080/"
        },
        "id": "UEuvNZvCP6iO",
        "outputId": "ee1678a8-317f-483c-a2da-d43dbafdb77e"
      },
      "execution_count": 67,
      "outputs": [
        {
          "output_type": "stream",
          "name": "stdout",
          "text": [
            "root\n",
            " |-- value: string (nullable = true)\n",
            "\n",
            "[('value', 'string')]\n"
          ]
        }
      ]
    },
    {
      "cell_type": "markdown",
      "source": [
        "Get a look at the data in the dataframe"
      ],
      "metadata": {
        "id": "nZU31pf7N6w3"
      }
    },
    {
      "cell_type": "code",
      "source": [
        "book.show()"
      ],
      "metadata": {
        "colab": {
          "base_uri": "https://localhost:8080/"
        },
        "id": "d3rLoKdWWStR",
        "outputId": "2c3f2cfa-dd91-4d76-c1f8-a5f85bdef7e0"
      },
      "execution_count": 68,
      "outputs": [
        {
          "output_type": "stream",
          "name": "stdout",
          "text": [
            "+--------------------+\n",
            "|               value|\n",
            "+--------------------+\n",
            "|The Project Guten...|\n",
            "|                    |\n",
            "|This eBook is for...|\n",
            "|almost no restric...|\n",
            "|re-use it under t...|\n",
            "|with this eBook o...|\n",
            "|                    |\n",
            "|                    |\n",
            "|Title: Pride and ...|\n",
            "|                    |\n",
            "| Author: Jane Austen|\n",
            "|                    |\n",
            "|Posting Date: Aug...|\n",
            "|Release Date: Jun...|\n",
            "|Last Updated: Mar...|\n",
            "|                    |\n",
            "|   Language: English|\n",
            "|                    |\n",
            "|Character set enc...|\n",
            "|                    |\n",
            "+--------------------+\n",
            "only showing top 20 rows\n",
            "\n"
          ]
        }
      ]
    },
    {
      "cell_type": "markdown",
      "source": [
        "Show top ten rows truncated to 50\n"
      ],
      "metadata": {
        "id": "uYbVT9_0OAST"
      }
    },
    {
      "cell_type": "code",
      "source": [
        "book.show(10, truncate=50)"
      ],
      "metadata": {
        "colab": {
          "base_uri": "https://localhost:8080/"
        },
        "id": "lk8OI-UTMKfW",
        "outputId": "e1416caf-39aa-41a3-ae3d-a0ff49fbfa0f"
      },
      "execution_count": 69,
      "outputs": [
        {
          "output_type": "stream",
          "name": "stdout",
          "text": [
            "+--------------------------------------------------+\n",
            "|                                             value|\n",
            "+--------------------------------------------------+\n",
            "|The Project Gutenberg EBook of Pride and Prejud...|\n",
            "|                                                  |\n",
            "|This eBook is for the use of anyone anywhere at...|\n",
            "|almost no restrictions whatsoever.  You may cop...|\n",
            "|re-use it under the terms of the Project Gutenb...|\n",
            "|    with this eBook or online at www.gutenberg.org|\n",
            "|                                                  |\n",
            "|                                                  |\n",
            "|                        Title: Pride and Prejudice|\n",
            "|                                                  |\n",
            "+--------------------------------------------------+\n",
            "only showing top 10 rows\n",
            "\n"
          ]
        }
      ]
    },
    {
      "cell_type": "markdown",
      "source": [
        "Split the lines into arrays or words\n"
      ],
      "metadata": {
        "id": "2OvMR0tjPclX"
      }
    },
    {
      "cell_type": "code",
      "source": [
        "from pyspark.sql.functions import split\n",
        "lines = book.select(split(book.value, \" \").alias(\"line\"))\n",
        "lines.show(5)"
      ],
      "metadata": {
        "colab": {
          "base_uri": "https://localhost:8080/"
        },
        "id": "Pc2u64jwPVPm",
        "outputId": "03533cf9-8bec-4038-975c-7e2569cda9ac"
      },
      "execution_count": 70,
      "outputs": [
        {
          "output_type": "stream",
          "name": "stdout",
          "text": [
            "+--------------------+\n",
            "|                line|\n",
            "+--------------------+\n",
            "|[The, Project, Gu...|\n",
            "|                  []|\n",
            "|[This, eBook, is,...|\n",
            "|[almost, no, rest...|\n",
            "|[re-use, it, unde...|\n",
            "+--------------------+\n",
            "only showing top 5 rows\n",
            "\n"
          ]
        }
      ]
    },
    {
      "cell_type": "markdown",
      "source": [
        "Select the value column from the book dataframe"
      ],
      "metadata": {
        "id": "I7jgn572Zw2G"
      }
    },
    {
      "cell_type": "code",
      "source": [
        "from pyspark.sql.functions import col\n",
        "book.select(book.value)\n",
        "book.select(book[\"value\"])\n",
        "book.select(col(\"value\"))\n",
        "book.select(\"value\")"
      ],
      "metadata": {
        "colab": {
          "base_uri": "https://localhost:8080/"
        },
        "id": "m3OuZOX-Yex4",
        "outputId": "fc738df5-33fe-460b-95b0-00c9022489e5"
      },
      "execution_count": 71,
      "outputs": [
        {
          "output_type": "execute_result",
          "data": {
            "text/plain": [
              "DataFrame[value: string]"
            ]
          },
          "metadata": {},
          "execution_count": 71
        }
      ]
    },
    {
      "cell_type": "code",
      "source": [
        "book.show(5, truncate = 100)"
      ],
      "metadata": {
        "colab": {
          "base_uri": "https://localhost:8080/"
        },
        "id": "FnfpKGwfbgPx",
        "outputId": "8da39be5-5689-42dc-bf4e-8ecaf4194660"
      },
      "execution_count": 72,
      "outputs": [
        {
          "output_type": "stream",
          "name": "stdout",
          "text": [
            "+--------------------------------------------------------------------+\n",
            "|                                                               value|\n",
            "+--------------------------------------------------------------------+\n",
            "|  The Project Gutenberg EBook of Pride and Prejudice, by Jane Austen|\n",
            "|                                                                    |\n",
            "|    This eBook is for the use of anyone anywhere at no cost and with|\n",
            "|almost no restrictions whatsoever.  You may copy it, give it away or|\n",
            "| re-use it under the terms of the Project Gutenberg License included|\n",
            "+--------------------------------------------------------------------+\n",
            "only showing top 5 rows\n",
            "\n"
          ]
        }
      ]
    },
    {
      "cell_type": "markdown",
      "source": [
        "Split the lines of text into a list of words"
      ],
      "metadata": {
        "id": "28EdwqWnb5HL"
      }
    },
    {
      "cell_type": "code",
      "source": [
        "from pyspark.sql.functions import col, split\n",
        "\n",
        "lines = book.select(split(col(\"value\"), \" \").alias(\"line\"))\n",
        "\n",
        "lines.printSchema()\n",
        "\n",
        "lines.show(5, truncate=50)"
      ],
      "metadata": {
        "colab": {
          "base_uri": "https://localhost:8080/"
        },
        "id": "nzfXFd4yb4L0",
        "outputId": "46b59518-5670-4524-a096-af1b1abf71ed"
      },
      "execution_count": 73,
      "outputs": [
        {
          "output_type": "stream",
          "name": "stdout",
          "text": [
            "root\n",
            " |-- line: array (nullable = true)\n",
            " |    |-- element: string (containsNull = true)\n",
            "\n",
            "+--------------------------------------------------+\n",
            "|                                              line|\n",
            "+--------------------------------------------------+\n",
            "|[The, Project, Gutenberg, EBook, of, Pride, and...|\n",
            "|                                                []|\n",
            "|[This, eBook, is, for, the, use, of, anyone, an...|\n",
            "|[almost, no, restrictions, whatsoever., , You, ...|\n",
            "|[re-use, it, under, the, terms, of, the, Projec...|\n",
            "+--------------------------------------------------+\n",
            "only showing top 5 rows\n",
            "\n"
          ]
        }
      ]
    },
    {
      "cell_type": "code",
      "source": [
        "book.select(split(col(\"value\"), \" \").alias(\"line\")).printSchema()\n"
      ],
      "metadata": {
        "colab": {
          "base_uri": "https://localhost:8080/"
        },
        "id": "ptVHXV7S63Z2",
        "outputId": "8ff7d0cd-0a8a-4143-b420-063b8ab5aa5b"
      },
      "execution_count": 74,
      "outputs": [
        {
          "output_type": "stream",
          "name": "stdout",
          "text": [
            "root\n",
            " |-- line: array (nullable = true)\n",
            " |    |-- element: string (containsNull = true)\n",
            "\n"
          ]
        }
      ]
    },
    {
      "cell_type": "code",
      "source": [
        "from pyspark.sql.functions import explode, col\n",
        "\n",
        "words = lines.select(explode(col(\"line\")).alias(\"word\"))\n",
        "\n",
        "words.show(15)"
      ],
      "metadata": {
        "colab": {
          "base_uri": "https://localhost:8080/"
        },
        "id": "6Owqx7QE7ib2",
        "outputId": "fc8e4141-8978-4abe-826d-5ff90c0980b8"
      },
      "execution_count": 75,
      "outputs": [
        {
          "output_type": "stream",
          "name": "stdout",
          "text": [
            "+----------+\n",
            "|      word|\n",
            "+----------+\n",
            "|       The|\n",
            "|   Project|\n",
            "| Gutenberg|\n",
            "|     EBook|\n",
            "|        of|\n",
            "|     Pride|\n",
            "|       and|\n",
            "|Prejudice,|\n",
            "|        by|\n",
            "|      Jane|\n",
            "|    Austen|\n",
            "|          |\n",
            "|      This|\n",
            "|     eBook|\n",
            "|        is|\n",
            "+----------+\n",
            "only showing top 15 rows\n",
            "\n"
          ]
        }
      ]
    },
    {
      "cell_type": "code",
      "source": [],
      "metadata": {
        "id": "fvk0WJOy-zi2"
      },
      "execution_count": 75,
      "outputs": []
    },
    {
      "cell_type": "code",
      "source": [
        "from pyspark.sql.functions import lower\n",
        "\n",
        "words_lower = words.select(lower(col(\"word\")).alias(\"word_lower\"))\n",
        "\n",
        "words_lower.show()"
      ],
      "metadata": {
        "colab": {
          "base_uri": "https://localhost:8080/"
        },
        "id": "pdnwLPiI-IT3",
        "outputId": "90816df1-abf9-433c-8a93-390911db559b"
      },
      "execution_count": 76,
      "outputs": [
        {
          "output_type": "stream",
          "name": "stdout",
          "text": [
            "+----------+\n",
            "|word_lower|\n",
            "+----------+\n",
            "|       the|\n",
            "|   project|\n",
            "| gutenberg|\n",
            "|     ebook|\n",
            "|        of|\n",
            "|     pride|\n",
            "|       and|\n",
            "|prejudice,|\n",
            "|        by|\n",
            "|      jane|\n",
            "|    austen|\n",
            "|          |\n",
            "|      this|\n",
            "|     ebook|\n",
            "|        is|\n",
            "|       for|\n",
            "|       the|\n",
            "|       use|\n",
            "|        of|\n",
            "|    anyone|\n",
            "+----------+\n",
            "only showing top 20 rows\n",
            "\n"
          ]
        }
      ]
    },
    {
      "cell_type": "code",
      "source": [
        "from pyspark.sql.functions import regexp_extract\n",
        "words_clean = words_lower.select(\n",
        "    regexp_extract(col(\"word_lower\"), \"[a-z]+\", 0).alias(\"word\")\n",
        ")\n",
        "\n",
        "words_clean.show()"
      ],
      "metadata": {
        "colab": {
          "base_uri": "https://localhost:8080/"
        },
        "id": "Hmactyul_Fa8",
        "outputId": "219f9ca9-a024-4d76-c78e-7dd4cac04576"
      },
      "execution_count": 77,
      "outputs": [
        {
          "output_type": "stream",
          "name": "stdout",
          "text": [
            "+---------+\n",
            "|     word|\n",
            "+---------+\n",
            "|      the|\n",
            "|  project|\n",
            "|gutenberg|\n",
            "|    ebook|\n",
            "|       of|\n",
            "|    pride|\n",
            "|      and|\n",
            "|prejudice|\n",
            "|       by|\n",
            "|     jane|\n",
            "|   austen|\n",
            "|         |\n",
            "|     this|\n",
            "|    ebook|\n",
            "|       is|\n",
            "|      for|\n",
            "|      the|\n",
            "|      use|\n",
            "|       of|\n",
            "|   anyone|\n",
            "+---------+\n",
            "only showing top 20 rows\n",
            "\n"
          ]
        }
      ]
    },
    {
      "cell_type": "code",
      "source": [
        "words_nonull = words_clean.filter(col(\"word\") != \"\")\n",
        "\n",
        "words_nonull.show()"
      ],
      "metadata": {
        "colab": {
          "base_uri": "https://localhost:8080/"
        },
        "id": "mZQH-AvwASa-",
        "outputId": "4acb2922-295c-4b79-8cbc-23452bef0a58"
      },
      "execution_count": 78,
      "outputs": [
        {
          "output_type": "stream",
          "name": "stdout",
          "text": [
            "+---------+\n",
            "|     word|\n",
            "+---------+\n",
            "|      the|\n",
            "|  project|\n",
            "|gutenberg|\n",
            "|    ebook|\n",
            "|       of|\n",
            "|    pride|\n",
            "|      and|\n",
            "|prejudice|\n",
            "|       by|\n",
            "|     jane|\n",
            "|   austen|\n",
            "|     this|\n",
            "|    ebook|\n",
            "|       is|\n",
            "|      for|\n",
            "|      the|\n",
            "|      use|\n",
            "|       of|\n",
            "|   anyone|\n",
            "| anywhere|\n",
            "+---------+\n",
            "only showing top 20 rows\n",
            "\n"
          ]
        }
      ]
    },
    {
      "cell_type": "code",
      "source": [
        "# Counting word frequency using groupby() and Count()\n",
        "groups = words_nonull.groupBy(col(\"word\"))\n",
        "print(groups)"
      ],
      "metadata": {
        "colab": {
          "base_uri": "https://localhost:8080/"
        },
        "id": "g5J6xFR3IYOE",
        "outputId": "dcea5fe1-e3c1-410a-be16-f6b7bec10521"
      },
      "execution_count": 79,
      "outputs": [
        {
          "output_type": "stream",
          "name": "stdout",
          "text": [
            "<pyspark.sql.group.GroupedData object at 0x7cd61c9cb490>\n"
          ]
        }
      ]
    },
    {
      "cell_type": "code",
      "source": [
        "results = words_nonull.groupBy(col(\"word\")).count()\n",
        "print(results)"
      ],
      "metadata": {
        "id": "sRGREt2eIi7y",
        "outputId": "f861337f-4c9b-4f18-b32e-e0c1d9311846",
        "colab": {
          "base_uri": "https://localhost:8080/"
        }
      },
      "execution_count": 80,
      "outputs": [
        {
          "output_type": "stream",
          "name": "stdout",
          "text": [
            "DataFrame[word: string, count: bigint]\n"
          ]
        }
      ]
    },
    {
      "cell_type": "code",
      "source": [
        "results.show()"
      ],
      "metadata": {
        "id": "Ishf8niqIkCI",
        "outputId": "93667546-ed3b-4865-d704-9109d883ecef",
        "colab": {
          "base_uri": "https://localhost:8080/"
        }
      },
      "execution_count": 81,
      "outputs": [
        {
          "output_type": "stream",
          "name": "stdout",
          "text": [
            "+-------------+-----+\n",
            "|         word|count|\n",
            "+-------------+-----+\n",
            "|       online|    4|\n",
            "|         some|  209|\n",
            "|        still|   72|\n",
            "|          few|   72|\n",
            "|         hope|  122|\n",
            "|        those|   60|\n",
            "|     cautious|    4|\n",
            "|    imitation|    1|\n",
            "|          art|    3|\n",
            "|      solaced|    1|\n",
            "|       poetry|    2|\n",
            "|    arguments|    5|\n",
            "| premeditated|    1|\n",
            "|      elevate|    1|\n",
            "|       doubts|    2|\n",
            "|    destitute|    1|\n",
            "|    solemnity|    5|\n",
            "|   lieutenant|    1|\n",
            "|gratification|    1|\n",
            "|    connected|   14|\n",
            "+-------------+-----+\n",
            "only showing top 20 rows\n",
            "\n"
          ]
        }
      ]
    },
    {
      "cell_type": "code",
      "source": [
        "results.orderBy(col(\"count\").desc()).show(10)"
      ],
      "metadata": {
        "id": "2ci50dF7evRm",
        "outputId": "01566fec-fd2d-4c95-9456-97c6ab067844",
        "colab": {
          "base_uri": "https://localhost:8080/"
        }
      },
      "execution_count": 82,
      "outputs": [
        {
          "output_type": "stream",
          "name": "stdout",
          "text": [
            "+----+-----+\n",
            "|word|count|\n",
            "+----+-----+\n",
            "| the| 4496|\n",
            "|  to| 4235|\n",
            "|  of| 3719|\n",
            "| and| 3602|\n",
            "| her| 2223|\n",
            "|   i| 2052|\n",
            "|   a| 1997|\n",
            "|  in| 1920|\n",
            "| was| 1844|\n",
            "| she| 1703|\n",
            "+----+-----+\n",
            "only showing top 10 rows\n",
            "\n"
          ]
        }
      ]
    }
  ]
}